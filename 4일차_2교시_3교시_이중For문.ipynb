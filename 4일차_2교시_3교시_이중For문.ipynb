{
  "nbformat": 4,
  "nbformat_minor": 0,
  "metadata": {
    "colab": {
      "name": "4일차_2교시_3교시_이중For문.ipynb",
      "provenance": [],
      "collapsed_sections": [],
      "authorship_tag": "ABX9TyOKY7YhYc3aGVBl5zLKnF3p",
      "include_colab_link": true
    },
    "kernelspec": {
      "name": "python3",
      "display_name": "Python 3"
    }
  },
  "cells": [
    {
      "cell_type": "markdown",
      "metadata": {
        "id": "view-in-github",
        "colab_type": "text"
      },
      "source": [
        "<a href=\"https://colab.research.google.com/github/wjddn8038/-/blob/master/4%EC%9D%BC%EC%B0%A8_2%EA%B5%90%EC%8B%9C_3%EA%B5%90%EC%8B%9C_%EC%9D%B4%EC%A4%91For%EB%AC%B8.ipynb\" target=\"_parent\"><img src=\"https://colab.research.google.com/assets/colab-badge.svg\" alt=\"Open In Colab\"/></a>"
      ]
    },
    {
      "cell_type": "markdown",
      "metadata": {
        "id": "wwEiJ61lInBR",
        "colab_type": "text"
      },
      "source": [
        "**이중For문**\n"
      ]
    },
    {
      "cell_type": "code",
      "metadata": {
        "id": "Olo0WU6AIrut",
        "colab_type": "code",
        "colab": {
          "base_uri": "https://localhost:8080/",
          "height": 377
        },
        "outputId": "1b3e3487-648f-4f1e-82f6-a06d8a8dbd4b"
      },
      "source": [
        "for i in range(1,11):\n",
        "  for j in range(1,6):\n",
        "   print(j, end=' ')\n",
        "  print('\\n')"
      ],
      "execution_count": 9,
      "outputs": [
        {
          "output_type": "stream",
          "text": [
            "1 2 3 4 5 \n",
            "\n",
            "1 2 3 4 5 \n",
            "\n",
            "1 2 3 4 5 \n",
            "\n",
            "1 2 3 4 5 \n",
            "\n",
            "1 2 3 4 5 \n",
            "\n",
            "1 2 3 4 5 \n",
            "\n",
            "1 2 3 4 5 \n",
            "\n",
            "1 2 3 4 5 \n",
            "\n",
            "1 2 3 4 5 \n",
            "\n",
            "1 2 3 4 5 \n",
            "\n"
          ],
          "name": "stdout"
        }
      ]
    },
    {
      "cell_type": "markdown",
      "metadata": {
        "id": "Y1TTgvrhJN3H",
        "colab_type": "text"
      },
      "source": [
        "**문제1**"
      ]
    },
    {
      "cell_type": "code",
      "metadata": {
        "id": "f1eUW3mqJLzD",
        "colab_type": "code",
        "colab": {
          "base_uri": "https://localhost:8080/",
          "height": 197
        },
        "outputId": "ce62860d-6549-4b4e-d10d-2d135a3cfa11"
      },
      "source": [
        "for i in range(1,6):\n",
        "  for j in range(5,0,-1):\n",
        "    print(j,end=' ')\n",
        "  print('\\n')\n",
        "\n"
      ],
      "execution_count": 14,
      "outputs": [
        {
          "output_type": "stream",
          "text": [
            "5 4 3 2 1 \n",
            "\n",
            "5 4 3 2 1 \n",
            "\n",
            "5 4 3 2 1 \n",
            "\n",
            "5 4 3 2 1 \n",
            "\n",
            "5 4 3 2 1 \n",
            "\n"
          ],
          "name": "stdout"
        }
      ]
    },
    {
      "cell_type": "code",
      "metadata": {
        "id": "miXfbbFYJsSz",
        "colab_type": "code",
        "colab": {
          "base_uri": "https://localhost:8080/",
          "height": 197
        },
        "outputId": "4076306b-2bdd-465c-f9c2-98f0b7e949c1"
      },
      "source": [
        "\n",
        "for i in range(1,6):\n",
        "  for j in range(5,0,-1):\n",
        "    print('*',end='')\n",
        "  print('\\n')\n"
      ],
      "execution_count": 25,
      "outputs": [
        {
          "output_type": "stream",
          "text": [
            "*****\n",
            "\n",
            "****\n",
            "\n",
            "***\n",
            "\n",
            "**\n",
            "\n",
            "*\n",
            "\n"
          ],
          "name": "stdout"
        }
      ]
    },
    {
      "cell_type": "code",
      "metadata": {
        "id": "W4u_zGipLJJn",
        "colab_type": "code",
        "colab": {
          "base_uri": "https://localhost:8080/",
          "height": 361
        },
        "outputId": "5cfa26d5-426f-437b-fdd3-9e5548ff46b6"
      },
      "source": [
        "for i in range(1, 10) :\n",
        "  for j in range(2, 10) :\n",
        "    print(j, \"*\", i, '=', i*j,end='\\t')\n",
        "  print('\\n')"
      ],
      "execution_count": 40,
      "outputs": [
        {
          "output_type": "stream",
          "text": [
            "2 * 1 = 2\t3 * 1 = 3\t4 * 1 = 4\t5 * 1 = 5\t6 * 1 = 6\t7 * 1 = 7\t8 * 1 = 8\t9 * 1 = 9\t\n",
            "\n",
            "2 * 2 = 4\t3 * 2 = 6\t4 * 2 = 8\t5 * 2 = 10\t6 * 2 = 12\t7 * 2 = 14\t8 * 2 = 16\t9 * 2 = 18\t\n",
            "\n",
            "2 * 3 = 6\t3 * 3 = 9\t4 * 3 = 12\t5 * 3 = 15\t6 * 3 = 18\t7 * 3 = 21\t8 * 3 = 24\t9 * 3 = 27\t\n",
            "\n",
            "2 * 4 = 8\t3 * 4 = 12\t4 * 4 = 16\t5 * 4 = 20\t6 * 4 = 24\t7 * 4 = 28\t8 * 4 = 32\t9 * 4 = 36\t\n",
            "\n",
            "2 * 5 = 10\t3 * 5 = 15\t4 * 5 = 20\t5 * 5 = 25\t6 * 5 = 30\t7 * 5 = 35\t8 * 5 = 40\t9 * 5 = 45\t\n",
            "\n",
            "2 * 6 = 12\t3 * 6 = 18\t4 * 6 = 24\t5 * 6 = 30\t6 * 6 = 36\t7 * 6 = 42\t8 * 6 = 48\t9 * 6 = 54\t\n",
            "\n",
            "2 * 7 = 14\t3 * 7 = 21\t4 * 7 = 28\t5 * 7 = 35\t6 * 7 = 42\t7 * 7 = 49\t8 * 7 = 56\t9 * 7 = 63\t\n",
            "\n",
            "2 * 8 = 16\t3 * 8 = 24\t4 * 8 = 32\t5 * 8 = 40\t6 * 8 = 48\t7 * 8 = 56\t8 * 8 = 64\t9 * 8 = 72\t\n",
            "\n",
            "2 * 9 = 18\t3 * 9 = 27\t4 * 9 = 36\t5 * 9 = 45\t6 * 9 = 54\t7 * 9 = 63\t8 * 9 = 72\t9 * 9 = 81\t\n",
            "\n"
          ],
          "name": "stdout"
        }
      ]
    },
    {
      "cell_type": "code",
      "metadata": {
        "id": "3a2_CQcTOm8E",
        "colab_type": "code",
        "colab": {
          "base_uri": "https://localhost:8080/",
          "height": 35
        },
        "outputId": "d66ecc28-2c60-4f1b-929d-56f570233102"
      },
      "source": [
        "for i in ['치킨', '햄버거','탕수육','떡볶이']:\n",
        "  print(i, end='/')"
      ],
      "execution_count": 42,
      "outputs": [
        {
          "output_type": "stream",
          "text": [
            "치킨/햄버거/탕수육/떡볶이/"
          ],
          "name": "stdout"
        }
      ]
    },
    {
      "cell_type": "code",
      "metadata": {
        "id": "183g4IwzPDNS",
        "colab_type": "code",
        "colab": {
          "base_uri": "https://localhost:8080/",
          "height": 35
        },
        "outputId": "a141443b-3e20-4e11-8681-6038a5271669"
      },
      "source": [
        "a = list(range(1,30,3))\n",
        "a"
      ],
      "execution_count": 50,
      "outputs": [
        {
          "output_type": "execute_result",
          "data": {
            "text/plain": [
              "[1, 4, 7, 10, 13, 16, 19, 22, 25, 28]"
            ]
          },
          "metadata": {
            "tags": []
          },
          "execution_count": 50
        }
      ]
    },
    {
      "cell_type": "code",
      "metadata": {
        "id": "k0UhSHq5PO7Y",
        "colab_type": "code",
        "colab": {
          "base_uri": "https://localhost:8080/",
          "height": 35
        },
        "outputId": "854ced77-ec12-475f-f25f-df85ea610d82"
      },
      "source": [
        "sum(a)/len(a)"
      ],
      "execution_count": 52,
      "outputs": [
        {
          "output_type": "execute_result",
          "data": {
            "text/plain": [
              "14.5"
            ]
          },
          "metadata": {
            "tags": []
          },
          "execution_count": 52
        }
      ]
    },
    {
      "cell_type": "code",
      "metadata": {
        "id": "MRfWpSB4PWkP",
        "colab_type": "code",
        "colab": {
          "base_uri": "https://localhost:8080/",
          "height": 35
        },
        "outputId": "d4365bbc-87ca-435b-81fd-7945bcbbdaf9"
      },
      "source": [
        "max(a)"
      ],
      "execution_count": 53,
      "outputs": [
        {
          "output_type": "execute_result",
          "data": {
            "text/plain": [
              "28"
            ]
          },
          "metadata": {
            "tags": []
          },
          "execution_count": 53
        }
      ]
    },
    {
      "cell_type": "code",
      "metadata": {
        "id": "BGbh5mL4Pjxf",
        "colab_type": "code",
        "colab": {
          "base_uri": "https://localhost:8080/",
          "height": 35
        },
        "outputId": "025130a7-60ab-4453-9044-99f94a220a46"
      },
      "source": [
        "min(a)"
      ],
      "execution_count": 54,
      "outputs": [
        {
          "output_type": "execute_result",
          "data": {
            "text/plain": [
              "1"
            ]
          },
          "metadata": {
            "tags": []
          },
          "execution_count": 54
        }
      ]
    }
  ]
}
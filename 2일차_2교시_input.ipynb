{
  "nbformat": 4,
  "nbformat_minor": 0,
  "metadata": {
    "colab": {
      "name": "2일차_2교시_input.ipynb",
      "provenance": [],
      "collapsed_sections": [],
      "authorship_tag": "ABX9TyN33k9A0754adoFyMRObM7p",
      "include_colab_link": true
    },
    "kernelspec": {
      "name": "python3",
      "display_name": "Python 3"
    }
  },
  "cells": [
    {
      "cell_type": "markdown",
      "metadata": {
        "id": "view-in-github",
        "colab_type": "text"
      },
      "source": [
        "<a href=\"https://colab.research.google.com/github/wjddn8038/-/blob/master/2%EC%9D%BC%EC%B0%A8_2%EA%B5%90%EC%8B%9C_input.ipynb\" target=\"_parent\"><img src=\"https://colab.research.google.com/assets/colab-badge.svg\" alt=\"Open In Colab\"/></a>"
      ]
    },
    {
      "cell_type": "code",
      "metadata": {
        "id": "80mUi1IsDw_j",
        "colab_type": "code",
        "colab": {
          "base_uri": "https://localhost:8080/",
          "height": 53
        },
        "outputId": "7eb14fdb-7c86-48ed-e7df-e9b1bc7a3c03"
      },
      "source": [
        "a = input('당신의 이름을 입력하시요 >>>')\n",
        "a"
      ],
      "execution_count": 3,
      "outputs": [
        {
          "output_type": "stream",
          "text": [
            "당신의 이름을 입력하시요 >>> 인천\n"
          ],
          "name": "stdout"
        },
        {
          "output_type": "execute_result",
          "data": {
            "text/plain": [
              "' 인천'"
            ]
          },
          "metadata": {
            "tags": []
          },
          "execution_count": 3
        }
      ]
    },
    {
      "cell_type": "code",
      "metadata": {
        "id": "jG44XPRUESou",
        "colab_type": "code",
        "colab": {
          "base_uri": "https://localhost:8080/",
          "height": 53
        },
        "outputId": "9e48f740-5ca9-4c5f-bdc9-c98a18b9ede5"
      },
      "source": [
        "b = input('당신의 나이 >>>')\n",
        "b"
      ],
      "execution_count": 4,
      "outputs": [
        {
          "output_type": "stream",
          "text": [
            "당신의 나이 >>>25\n"
          ],
          "name": "stdout"
        },
        {
          "output_type": "execute_result",
          "data": {
            "text/plain": [
              "'25'"
            ]
          },
          "metadata": {
            "tags": []
          },
          "execution_count": 4
        }
      ]
    },
    {
      "cell_type": "code",
      "metadata": {
        "id": "ktl8KqNVEjgQ",
        "colab_type": "code",
        "colab": {
          "base_uri": "https://localhost:8080/",
          "height": 35
        },
        "outputId": "5a6b2855-28a7-4aea-fb88-ce57a6db0408"
      },
      "source": [
        "type(b)"
      ],
      "execution_count": 6,
      "outputs": [
        {
          "output_type": "execute_result",
          "data": {
            "text/plain": [
              "str"
            ]
          },
          "metadata": {
            "tags": []
          },
          "execution_count": 6
        }
      ]
    },
    {
      "cell_type": "code",
      "metadata": {
        "id": "0JFohSH9Ets9",
        "colab_type": "code",
        "colab": {
          "base_uri": "https://localhost:8080/",
          "height": 35
        },
        "outputId": "f3cc20b3-64d1-41e8-dde1-7bc3271f1463"
      },
      "source": [
        "c = int(b)\n",
        "c, type(c)"
      ],
      "execution_count": 10,
      "outputs": [
        {
          "output_type": "execute_result",
          "data": {
            "text/plain": [
              "(25, int)"
            ]
          },
          "metadata": {
            "tags": []
          },
          "execution_count": 10
        }
      ]
    },
    {
      "cell_type": "code",
      "metadata": {
        "id": "wHJa_gUVFJ5K",
        "colab_type": "code",
        "colab": {
          "base_uri": "https://localhost:8080/",
          "height": 71
        },
        "outputId": "e43e64e8-d832-42c0-c39d-7a608133936d"
      },
      "source": [
        "year = int(input('출생년도를 입력>> '))\n",
        "print('당신은',year, '년에 태어났군요')\n",
        "print('당신의 나이는',2020-year+1, '세 입니다')"
      ],
      "execution_count": 14,
      "outputs": [
        {
          "output_type": "stream",
          "text": [
            "출생년도를 입력>> 2002\n",
            "당신은 2002 년에 태어났군요\n",
            "당신의 나이는 19 세 입니다\n"
          ],
          "name": "stdout"
        }
      ]
    },
    {
      "cell_type": "markdown",
      "metadata": {
        "id": "JgoKq0OOGwR6",
        "colab_type": "text"
      },
      "source": [
        "**Format**\n",
        "서식지정자"
      ]
    },
    {
      "cell_type": "code",
      "metadata": {
        "id": "TpNISwaBG3dn",
        "colab_type": "code",
        "colab": {
          "base_uri": "https://localhost:8080/",
          "height": 35
        },
        "outputId": "5251e9c4-99e4-415a-8def-8a9fba0c47bc"
      },
      "source": [
        "s= 'a is {}'\n",
        "s.format('apple')\n"
      ],
      "execution_count": 19,
      "outputs": [
        {
          "output_type": "execute_result",
          "data": {
            "text/plain": [
              "'a is apple'"
            ]
          },
          "metadata": {
            "tags": []
          },
          "execution_count": 19
        }
      ]
    },
    {
      "cell_type": "code",
      "metadata": {
        "id": "VWm8kCc5HUSq",
        "colab_type": "code",
        "colab": {
          "base_uri": "https://localhost:8080/",
          "height": 53
        },
        "outputId": "b3eef4ab-e2a3-462a-bd42-72fa590b8763"
      },
      "source": [
        "a = '%s %d 개 가격은 %.2f 달라'\n",
        "b = a %('햄버거',2,4.0*2)\n",
        "print(a)\n",
        "print(b)"
      ],
      "execution_count": 24,
      "outputs": [
        {
          "output_type": "stream",
          "text": [
            "%s %d 개 가격은 %.2f 달라\n",
            "햄버거 2 개 가격은 8.00 달라\n"
          ],
          "name": "stdout"
        }
      ]
    },
    {
      "cell_type": "code",
      "metadata": {
        "id": "09nrxhMAIChw",
        "colab_type": "code",
        "colab": {
          "base_uri": "https://localhost:8080/",
          "height": 53
        },
        "outputId": "d1c62b0b-2b44-4d44-ca3a-fbcad20e6fe2"
      },
      "source": [
        "#치킨 2마리가격은 40000원\n",
        "a = '%s %d 개 가격은 %.2d 원'\n",
        "b = a %('치킨',2,20000*2)\n",
        "print(a)\n",
        "print(b)"
      ],
      "execution_count": 27,
      "outputs": [
        {
          "output_type": "stream",
          "text": [
            "%s %d 개 가격은 %.2d 원\n",
            "치킨 2 개 가격은 40000 원\n"
          ],
          "name": "stdout"
        }
      ]
    }
  ]
}
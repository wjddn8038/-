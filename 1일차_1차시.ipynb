{
  "nbformat": 4,
  "nbformat_minor": 0,
  "metadata": {
    "colab": {
      "name": "1일차_1차시.ipynb",
      "provenance": [],
      "collapsed_sections": [],
      "authorship_tag": "ABX9TyPBtoyW4JgHaDwjJJRcKYiB",
      "include_colab_link": true
    },
    "kernelspec": {
      "name": "python3",
      "display_name": "Python 3"
    }
  },
  "cells": [
    {
      "cell_type": "markdown",
      "metadata": {
        "id": "view-in-github",
        "colab_type": "text"
      },
      "source": [
        "<a href=\"https://colab.research.google.com/github/wjddn8038/-/blob/master/1%EC%9D%BC%EC%B0%A8_1%EC%B0%A8%EC%8B%9C.ipynb\" target=\"_parent\"><img src=\"https://colab.research.google.com/assets/colab-badge.svg\" alt=\"Open In Colab\"/></a>"
      ]
    },
    {
      "cell_type": "markdown",
      "metadata": {
        "id": "U5nI7qZx3PGu",
        "colab_type": "text"
      },
      "source": [
        "오늘은 1일차 1교시 시간입니다.\n",
        "\n",
        "\n",
        "---"
      ]
    },
    {
      "cell_type": "code",
      "metadata": {
        "id": "x66ezhEE389c",
        "colab_type": "code",
        "outputId": "cf18b02c-e8a8-433c-f8f1-9f14a52bf0c7",
        "colab": {
          "base_uri": "https://localhost:8080/",
          "height": 35
        }
      },
      "source": [
        "print('인천정보산업고')"
      ],
      "execution_count": 0,
      "outputs": [
        {
          "output_type": "stream",
          "text": [
            "인천정보산업고\n"
          ],
          "name": "stdout"
        }
      ]
    },
    {
      "cell_type": "markdown",
      "metadata": {
        "id": "9Nh6MLbX4buK",
        "colab_type": "text"
      },
      "source": [
        "사칙연산\n",
        "\n",
        "\n",
        "```\n",
        "# +,-,*,**,/,//,%\n",
        "a=3,b=2\n",
        "a+b=5\n",
        "```\n",
        "\n"
      ]
    },
    {
      "cell_type": "code",
      "metadata": {
        "id": "zu1nA9Fz4roI",
        "colab_type": "code",
        "outputId": "04c048f1-6b78-4145-88e0-e1f8316ae4be",
        "colab": {
          "base_uri": "https://localhost:8080/",
          "height": 125
        }
      },
      "source": [
        "a=3\n",
        "b=2\n",
        "print('a + b=',a+b)\n",
        "print('a - b=',a-b)\n",
        "print('a * b=',a*b)\n",
        "print('a / b=',a/b)\n",
        "print('a ** b=',a**b)\n",
        "print('a // b=',a//b)"
      ],
      "execution_count": 0,
      "outputs": [
        {
          "output_type": "stream",
          "text": [
            "a + b= 5\n",
            "a - b= 1\n",
            "a * b= 6\n",
            "a / b= 1.5\n",
            "a ** b= 9\n",
            "a // b= 1\n"
          ],
          "name": "stdout"
        }
      ]
    },
    {
      "cell_type": "code",
      "metadata": {
        "id": "-iuJ3ap79PO5",
        "colab_type": "code",
        "colab": {}
      },
      "source": [
        ""
      ],
      "execution_count": 0,
      "outputs": []
    },
    {
      "cell_type": "code",
      "metadata": {
        "id": "ZmeTW5Sm57VE",
        "colab_type": "code",
        "colab": {}
      },
      "source": [
        ""
      ],
      "execution_count": 0,
      "outputs": []
    }
  ]
}
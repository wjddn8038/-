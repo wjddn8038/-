{
  "nbformat": 4,
  "nbformat_minor": 0,
  "metadata": {
    "colab": {
      "name": "4일차_1교시.ipynb",
      "provenance": [],
      "authorship_tag": "ABX9TyOd07B0K/UAZSvPt364J+Kw",
      "include_colab_link": true
    },
    "kernelspec": {
      "name": "python3",
      "display_name": "Python 3"
    }
  },
  "cells": [
    {
      "cell_type": "markdown",
      "metadata": {
        "id": "view-in-github",
        "colab_type": "text"
      },
      "source": [
        "<a href=\"https://colab.research.google.com/github/wjddn8038/-/blob/master/4%EC%9D%BC%EC%B0%A8_1%EA%B5%90%EC%8B%9C.ipynb\" target=\"_parent\"><img src=\"https://colab.research.google.com/assets/colab-badge.svg\" alt=\"Open In Colab\"/></a>"
      ]
    },
    {
      "cell_type": "markdown",
      "metadata": {
        "id": "NmDZPgfH77gE",
        "colab_type": "text"
      },
      "source": [
        "**[학습목표]**\n",
        "\n",
        "  1.List, Range\n",
        "  \n",
        "  2.For문\n",
        "\n",
        "  ---\n"
      ]
    },
    {
      "cell_type": "code",
      "metadata": {
        "id": "VLAiNzVi8Hxt",
        "colab_type": "code",
        "colab": {
          "base_uri": "https://localhost:8080/",
          "height": 35
        },
        "outputId": "a04bc905-9cf1-4c38-ef14-85166df42a3a"
      },
      "source": [
        "range(5)"
      ],
      "execution_count": 2,
      "outputs": [
        {
          "output_type": "execute_result",
          "data": {
            "text/plain": [
              "range(0, 5)"
            ]
          },
          "metadata": {
            "tags": []
          },
          "execution_count": 2
        }
      ]
    },
    {
      "cell_type": "code",
      "metadata": {
        "id": "WxMSPXrM8YmL",
        "colab_type": "code",
        "colab": {
          "base_uri": "https://localhost:8080/",
          "height": 35
        },
        "outputId": "9c9496f0-460a-4521-c564-52fe8efaa5e9"
      },
      "source": [
        "a = list(range(10,0,-2))\n",
        "a"
      ],
      "execution_count": 9,
      "outputs": [
        {
          "output_type": "execute_result",
          "data": {
            "text/plain": [
              "[10, 8, 6, 4, 2]"
            ]
          },
          "metadata": {
            "tags": []
          },
          "execution_count": 9
        }
      ]
    },
    {
      "cell_type": "code",
      "metadata": {
        "id": "6-8hCpud9Ccz",
        "colab_type": "code",
        "colab": {
          "base_uri": "https://localhost:8080/",
          "height": 35
        },
        "outputId": "a414f140-398e-4c23-b00b-e96bf73b64a0"
      },
      "source": [
        "type(a)"
      ],
      "execution_count": 11,
      "outputs": [
        {
          "output_type": "execute_result",
          "data": {
            "text/plain": [
              "list"
            ]
          },
          "metadata": {
            "tags": []
          },
          "execution_count": 11
        }
      ]
    },
    {
      "cell_type": "code",
      "metadata": {
        "id": "Y2oOocEH9D60",
        "colab_type": "code",
        "colab": {
          "base_uri": "https://localhost:8080/",
          "height": 35
        },
        "outputId": "b7555b6f-538b-462c-fe76-d4b3a053777b"
      },
      "source": [
        "for i in range(1,11):\n",
        "  print(i, end=' ')"
      ],
      "execution_count": 16,
      "outputs": [
        {
          "output_type": "stream",
          "text": [
            "1 2 3 4 5 6 7 8 9 10 "
          ],
          "name": "stdout"
        }
      ]
    },
    {
      "cell_type": "markdown",
      "metadata": {
        "id": "qxazalmJ9kS2",
        "colab_type": "text"
      },
      "source": [
        "**[문제]**\n",
        "for 문을 이용해서 10부터 0까지 -2씩 출력"
      ]
    },
    {
      "cell_type": "code",
      "metadata": {
        "id": "g9gAr9609ule",
        "colab_type": "code",
        "colab": {
          "base_uri": "https://localhost:8080/",
          "height": 35
        },
        "outputId": "d5318de2-8c1b-4be4-b608-41653638ad9d"
      },
      "source": [
        "for i in range(10,-2,-2):\n",
        "  print(i, end=' ')"
      ],
      "execution_count": 19,
      "outputs": [
        {
          "output_type": "stream",
          "text": [
            "10 8 6 4 2 0 "
          ],
          "name": "stdout"
        }
      ]
    },
    {
      "cell_type": "code",
      "metadata": {
        "id": "lVs-wbPr-R28",
        "colab_type": "code",
        "colab": {
          "base_uri": "https://localhost:8080/",
          "height": 107
        },
        "outputId": "7e8a9674-d544-4c84-ce02-3d1d2fd20f65"
      },
      "source": [
        "a= [1.3, 2.1, 4.5, 5, 5.1]\n",
        "for i in a:\n",
        "  print(a)"
      ],
      "execution_count": 21,
      "outputs": [
        {
          "output_type": "stream",
          "text": [
            "[1.3, 2.1, 4.5, 5, 5.1]\n",
            "[1.3, 2.1, 4.5, 5, 5.1]\n",
            "[1.3, 2.1, 4.5, 5, 5.1]\n",
            "[1.3, 2.1, 4.5, 5, 5.1]\n",
            "[1.3, 2.1, 4.5, 5, 5.1]\n"
          ],
          "name": "stdout"
        }
      ]
    },
    {
      "cell_type": "code",
      "metadata": {
        "id": "w8qjiPln-mS0",
        "colab_type": "code",
        "colab": {
          "base_uri": "https://localhost:8080/",
          "height": 107
        },
        "outputId": "d08ccac9-5877-47f2-da1c-e77bda65b751"
      },
      "source": [
        "a= [1.3, 2.1, 4.5, 5, 5.1]\n",
        "for i in range(len(a)):\n",
        "  print(a[i])"
      ],
      "execution_count": 30,
      "outputs": [
        {
          "output_type": "stream",
          "text": [
            "1.3\n",
            "2.1\n",
            "4.5\n",
            "5\n",
            "5.1\n"
          ],
          "name": "stdout"
        }
      ]
    },
    {
      "cell_type": "markdown",
      "metadata": {
        "id": "fVzGcIx6_cJS",
        "colab_type": "text"
      },
      "source": [
        "**[문제2]**\n",
        "for 문을\n",
        "\n",
        "```\n",
        "#\n",
        "Hello Pyton 1\n",
        "```\n",
        "Hello Python 10\n",
        "```\n",
        "\n"
      ]
    },
    {
      "cell_type": "code",
      "metadata": {
        "id": "5Dteh5E9_aZ7",
        "colab_type": "code",
        "colab": {
          "base_uri": "https://localhost:8080/",
          "height": 197
        },
        "outputId": "f46b9ea7-4399-4098-a5b7-52b2ce286713"
      },
      "source": [
        "for i in range(1,11):\n",
        "  print('Hello Python',i)"
      ],
      "execution_count": 32,
      "outputs": [
        {
          "output_type": "stream",
          "text": [
            "Hello Python 1\n",
            "Hello Python 2\n",
            "Hello Python 3\n",
            "Hello Python 4\n",
            "Hello Python 5\n",
            "Hello Python 6\n",
            "Hello Python 7\n",
            "Hello Python 8\n",
            "Hello Python 9\n",
            "Hello Python 10\n"
          ],
          "name": "stdout"
        }
      ]
    },
    {
      "cell_type": "code",
      "metadata": {
        "id": "5KFVYsUUAHv2",
        "colab_type": "code",
        "colab": {
          "base_uri": "https://localhost:8080/",
          "height": 125
        },
        "outputId": "f68f3a68-1039-498e-c209-8b3677ecbcbf"
      },
      "source": [
        "count = int(input('반복할 숫자입력'))\n",
        "for i in range(1,count+1):\n",
        "  print('좋아')"
      ],
      "execution_count": 38,
      "outputs": [
        {
          "output_type": "stream",
          "text": [
            "반복할 숫자입력5\n",
            "좋아\n",
            "좋아\n",
            "좋아\n",
            "좋아\n",
            "좋아\n"
          ],
          "name": "stdout"
        }
      ]
    },
    {
      "cell_type": "code",
      "metadata": {
        "id": "Zw1eQkdbBBp2",
        "colab_type": "code",
        "colab": {
          "base_uri": "https://localhost:8080/",
          "height": 53
        },
        "outputId": "8eda4331-2aca-43e5-88bb-db89fb09c938"
      },
      "source": [
        "a= list(map(int, (input('숫자 두개 입력').split())))\n",
        "print(a)"
      ],
      "execution_count": 51,
      "outputs": [
        {
          "output_type": "stream",
          "text": [
            "숫자 두개 입력2 0 1 6\n",
            "[2, 0, 1, 6]\n"
          ],
          "name": "stdout"
        }
      ]
    },
    {
      "cell_type": "code",
      "metadata": {
        "id": "pIn9Lk5HCfC-",
        "colab_type": "code",
        "colab": {
          "base_uri": "https://localhost:8080/",
          "height": 89
        },
        "outputId": "953c0469-e8eb-4751-fe85-15aa7ad6539b"
      },
      "source": [
        "a= list(map(int, (input('숫자 입력').split())))\n",
        "sum=0\n",
        "for i in range(len(a)):\n",
        "  sum+=a[i]\n",
        "  print(a[i],end=' / ')\n",
        "print('\\n합계 :',sum)\n",
        "print('평균 :',sum/len(a))"
      ],
      "execution_count": 64,
      "outputs": [
        {
          "output_type": "stream",
          "text": [
            "숫자 입력1 2 3 4 5\n",
            "1 / 2 / 3 / 4 / 5 / \n",
            "합계 : 15\n",
            "평균 : 3.0\n"
          ],
          "name": "stdout"
        }
      ]
    }
  ]
}